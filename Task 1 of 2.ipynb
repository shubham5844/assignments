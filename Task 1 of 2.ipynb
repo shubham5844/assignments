{
 "cells": [
  {
   "cell_type": "code",
   "execution_count": 1,
   "metadata": {},
   "outputs": [
    {
     "data": {
      "text/plain": [
       "'Write a program which accepts a sequence of comma-separated numbers from console and\\ngenerate a list.'"
      ]
     },
     "execution_count": 1,
     "metadata": {},
     "output_type": "execute_result"
    }
   ],
   "source": [
    "'''Write a program which accepts a sequence of comma-separated numbers from console and\n",
    "generate a list.'''"
   ]
  },
  {
   "cell_type": "code",
   "execution_count": 4,
   "metadata": {},
   "outputs": [
    {
     "name": "stdout",
     "output_type": "stream",
     "text": [
      "Please enter the number separeted by comma 2,3,4,5,6,7,8,9,34,56,67\n",
      "['2', '3', '4', '5', '6', '7', '8', '9', '34', '56', '67']\n"
     ]
    }
   ],
   "source": [
    "l = []\n",
    "number= input('Please enter the number separeted by comma ')\n",
    "l = number.split(',')\n",
    "print(l)\n",
    "\n",
    "\n",
    "\n",
    "\n"
   ]
  }
 ],
 "metadata": {
  "kernelspec": {
   "display_name": "Python 3",
   "language": "python",
   "name": "python3"
  },
  "language_info": {
   "codemirror_mode": {
    "name": "ipython",
    "version": 3
   },
   "file_extension": ".py",
   "mimetype": "text/x-python",
   "name": "python",
   "nbconvert_exporter": "python",
   "pygments_lexer": "ipython3",
   "version": "3.7.6"
  }
 },
 "nbformat": 4,
 "nbformat_minor": 4
}
